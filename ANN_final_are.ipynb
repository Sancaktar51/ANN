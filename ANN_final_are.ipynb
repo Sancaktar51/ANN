{
 "cells": [
  {
   "cell_type": "code",
   "execution_count": 172,
   "metadata": {},
   "outputs": [],
   "source": [
    "import pandas as pd\n",
    "from tensorflow import keras\n",
    "from sklearn.model_selection import train_test_split\n",
    "from sklearn.preprocessing import LabelEncoder\n",
    "from sklearn.preprocessing import MinMaxScaler\n"
   ]
  },
  {
   "cell_type": "code",
   "execution_count": 173,
   "metadata": {},
   "outputs": [],
   "source": [
    "# Load the the dataset I prepared\n",
    "coin_data = pd.read_csv('C:/Users/aliek/Desktop/ANN_Final/ANN_final_are.csv', delimiter=\";\")"
   ]
  },
  {
   "cell_type": "code",
   "execution_count": 174,
   "metadata": {},
   "outputs": [],
   "source": [
    "# Label encoding işlemi\n",
    "le = LabelEncoder()\n",
    "coin_data['toss'] = le.fit_transform(coin_data['toss'])\n",
    "coin_data['toss_result'] = le.fit_transform(coin_data['toss_result'])\n",
    "\n",
    "#coin_data['distance'] = le.fit_transform(coin_data['distance'])\n",
    "#coin_data['distance_result'] = le.fit_transform(coin_data['distance_result'])\n",
    "#X['toss'] = le.fit_transform(X['toss'])\n",
    "#y_toss = le.transform(y_toss)\n",
    "#y_distance = le.transform(y_distance)"
   ]
  },
  {
   "cell_type": "code",
   "execution_count": 175,
   "metadata": {},
   "outputs": [],
   "source": [
    "# Girdi ve çıktıları ayır\n",
    "\n",
    "X = coin_data[['toss', 'angel', 'distance']]\n",
    "\n",
    "X_distance = coin_data[['angel', 'distance']]\n",
    "\n",
    "y_toss = coin_data['toss_result']\n",
    "y_distance = coin_data['distance_result']"
   ]
  },
  {
   "cell_type": "code",
   "execution_count": 176,
   "metadata": {},
   "outputs": [],
   "source": [
    "# Veriyi normalize et (0-1 aralığına getir)\n",
    "scaler = MinMaxScaler()\n",
    "y_distance_normalized = scaler.fit_transform(y_distance.values.reshape(-1, 1))\n"
   ]
  },
  {
   "cell_type": "code",
   "execution_count": 177,
   "metadata": {},
   "outputs": [],
   "source": [
    "# Veriyi eğitim ve test setlerine ayır\n",
    "X_train, X_test, y_toss_train, y_toss_test, y_distance_train, y_distance_test = train_test_split(\n",
    "    X, y_toss, y_distance, test_size=0.2, random_state=42\n",
    ")\n"
   ]
  },
  {
   "cell_type": "code",
   "execution_count": 178,
   "metadata": {},
   "outputs": [],
   "source": [
    "model_toss = keras.Sequential([\n",
    "    keras.layers.Dense(128, input_dim=3, activation='relu'),  # hidden layer (2)\n",
    "    keras.layers.Dense(1, activation='sigmoid') # output layer (3)\n",
    "])\n",
    "\n",
    "model_distance = keras.Sequential([\n",
    "    keras.layers.Dense(128, input_dim=3, activation='relu'),  # hidden layer (2)\n",
    "    keras.layers.Dense(1, activation='linear') # output layer (3)\n",
    "])"
   ]
  },
  {
   "cell_type": "code",
   "execution_count": 179,
   "metadata": {},
   "outputs": [],
   "source": [
    "model_toss.compile(optimizer='adam',\n",
    "              loss='binary_crossentropy', #MSE, MAE, binary_crossentropy are some loss functions\n",
    "              metrics=['accuracy'])\n",
    "\n",
    "model_distance.compile(optimizer='adam',\n",
    "              loss='mean_squared_error', #MSE, MAE, binary_crossentropy are some loss functions\n",
    "              metrics=['mae'])"
   ]
  },
  {
   "cell_type": "code",
   "execution_count": 180,
   "metadata": {},
   "outputs": [
    {
     "name": "stdout",
     "output_type": "stream",
     "text": [
      "Epoch 1/50\n",
      "24/24 [==============================] - 1s 8ms/step - loss: 0.7646 - accuracy: 0.4948 - val_loss: 0.7212 - val_accuracy: 0.5208\n",
      "Epoch 2/50\n",
      "24/24 [==============================] - 0s 3ms/step - loss: 0.7075 - accuracy: 0.5156 - val_loss: 0.7085 - val_accuracy: 0.4583\n",
      "Epoch 3/50\n",
      "24/24 [==============================] - 0s 3ms/step - loss: 0.7065 - accuracy: 0.4792 - val_loss: 0.7026 - val_accuracy: 0.4792\n",
      "Epoch 4/50\n",
      "24/24 [==============================] - 0s 3ms/step - loss: 0.7017 - accuracy: 0.5208 - val_loss: 0.6848 - val_accuracy: 0.5208\n",
      "Epoch 5/50\n",
      "24/24 [==============================] - 0s 3ms/step - loss: 0.7215 - accuracy: 0.4323 - val_loss: 0.6765 - val_accuracy: 0.5208\n",
      "Epoch 6/50\n",
      "24/24 [==============================] - 0s 3ms/step - loss: 0.6918 - accuracy: 0.5156 - val_loss: 0.7031 - val_accuracy: 0.4792\n",
      "Epoch 7/50\n",
      "24/24 [==============================] - 0s 3ms/step - loss: 0.7246 - accuracy: 0.4635 - val_loss: 0.7187 - val_accuracy: 0.4792\n",
      "Epoch 8/50\n",
      "24/24 [==============================] - 0s 3ms/step - loss: 0.7061 - accuracy: 0.4688 - val_loss: 0.6818 - val_accuracy: 0.6042\n",
      "Epoch 9/50\n",
      "24/24 [==============================] - 0s 3ms/step - loss: 0.7219 - accuracy: 0.4531 - val_loss: 0.6897 - val_accuracy: 0.5208\n",
      "Epoch 10/50\n",
      "24/24 [==============================] - 0s 3ms/step - loss: 0.7079 - accuracy: 0.4948 - val_loss: 0.6784 - val_accuracy: 0.5417\n",
      "Epoch 11/50\n",
      "24/24 [==============================] - 0s 3ms/step - loss: 0.7027 - accuracy: 0.5365 - val_loss: 0.6844 - val_accuracy: 0.5208\n",
      "Epoch 12/50\n",
      "24/24 [==============================] - 0s 3ms/step - loss: 0.7013 - accuracy: 0.5260 - val_loss: 0.7227 - val_accuracy: 0.4792\n",
      "Epoch 13/50\n",
      "24/24 [==============================] - 0s 3ms/step - loss: 0.6997 - accuracy: 0.5104 - val_loss: 0.6779 - val_accuracy: 0.5833\n",
      "Epoch 14/50\n",
      "24/24 [==============================] - 0s 3ms/step - loss: 0.7067 - accuracy: 0.4271 - val_loss: 0.6823 - val_accuracy: 0.6042\n",
      "Epoch 15/50\n",
      "24/24 [==============================] - 0s 3ms/step - loss: 0.6969 - accuracy: 0.5573 - val_loss: 0.6756 - val_accuracy: 0.5208\n",
      "Epoch 16/50\n",
      "24/24 [==============================] - 0s 3ms/step - loss: 0.7078 - accuracy: 0.5052 - val_loss: 0.6736 - val_accuracy: 0.5208\n",
      "Epoch 17/50\n",
      "24/24 [==============================] - 0s 3ms/step - loss: 0.7165 - accuracy: 0.5417 - val_loss: 0.7248 - val_accuracy: 0.4792\n",
      "Epoch 18/50\n",
      "24/24 [==============================] - 0s 3ms/step - loss: 0.6910 - accuracy: 0.5521 - val_loss: 0.6728 - val_accuracy: 0.5208\n",
      "Epoch 19/50\n",
      "24/24 [==============================] - 0s 3ms/step - loss: 0.7036 - accuracy: 0.5104 - val_loss: 0.7029 - val_accuracy: 0.4792\n",
      "Epoch 20/50\n",
      "24/24 [==============================] - 0s 3ms/step - loss: 0.7070 - accuracy: 0.5104 - val_loss: 0.7114 - val_accuracy: 0.4792\n",
      "Epoch 21/50\n",
      "24/24 [==============================] - 0s 3ms/step - loss: 0.7165 - accuracy: 0.5312 - val_loss: 0.6797 - val_accuracy: 0.5208\n",
      "Epoch 22/50\n",
      "24/24 [==============================] - 0s 3ms/step - loss: 0.6967 - accuracy: 0.5417 - val_loss: 0.6920 - val_accuracy: 0.5833\n",
      "Epoch 23/50\n",
      "24/24 [==============================] - 0s 3ms/step - loss: 0.7209 - accuracy: 0.4479 - val_loss: 0.6754 - val_accuracy: 0.5208\n",
      "Epoch 24/50\n",
      "24/24 [==============================] - 0s 3ms/step - loss: 0.7099 - accuracy: 0.5052 - val_loss: 0.7920 - val_accuracy: 0.4792\n",
      "Epoch 25/50\n",
      "24/24 [==============================] - 0s 3ms/step - loss: 0.7116 - accuracy: 0.5208 - val_loss: 0.6755 - val_accuracy: 0.5208\n",
      "Epoch 26/50\n",
      "24/24 [==============================] - 0s 3ms/step - loss: 0.7201 - accuracy: 0.5365 - val_loss: 0.6856 - val_accuracy: 0.5208\n",
      "Epoch 27/50\n",
      "24/24 [==============================] - 0s 3ms/step - loss: 0.7115 - accuracy: 0.4688 - val_loss: 0.6734 - val_accuracy: 0.5208\n",
      "Epoch 28/50\n",
      "24/24 [==============================] - 0s 3ms/step - loss: 0.7102 - accuracy: 0.4844 - val_loss: 0.7277 - val_accuracy: 0.4792\n",
      "Epoch 29/50\n",
      "24/24 [==============================] - 0s 3ms/step - loss: 0.6948 - accuracy: 0.5312 - val_loss: 0.6794 - val_accuracy: 0.5208\n",
      "Epoch 30/50\n",
      "24/24 [==============================] - 0s 3ms/step - loss: 0.7073 - accuracy: 0.4948 - val_loss: 0.6735 - val_accuracy: 0.5833\n",
      "Epoch 31/50\n",
      "24/24 [==============================] - 0s 3ms/step - loss: 0.7150 - accuracy: 0.4583 - val_loss: 0.6879 - val_accuracy: 0.5625\n",
      "Epoch 32/50\n",
      "24/24 [==============================] - 0s 3ms/step - loss: 0.7035 - accuracy: 0.4896 - val_loss: 0.6973 - val_accuracy: 0.4792\n",
      "Epoch 33/50\n",
      "24/24 [==============================] - 0s 3ms/step - loss: 0.6950 - accuracy: 0.5052 - val_loss: 0.6748 - val_accuracy: 0.6042\n",
      "Epoch 34/50\n",
      "24/24 [==============================] - 0s 3ms/step - loss: 0.6976 - accuracy: 0.4896 - val_loss: 0.6909 - val_accuracy: 0.5833\n",
      "Epoch 35/50\n",
      "24/24 [==============================] - 0s 3ms/step - loss: 0.6947 - accuracy: 0.5000 - val_loss: 0.6936 - val_accuracy: 0.5833\n",
      "Epoch 36/50\n",
      "24/24 [==============================] - 0s 3ms/step - loss: 0.7001 - accuracy: 0.4844 - val_loss: 0.6865 - val_accuracy: 0.5625\n",
      "Epoch 37/50\n",
      "24/24 [==============================] - 0s 3ms/step - loss: 0.6925 - accuracy: 0.5260 - val_loss: 0.6712 - val_accuracy: 0.6042\n",
      "Epoch 38/50\n",
      "24/24 [==============================] - 0s 3ms/step - loss: 0.6971 - accuracy: 0.5104 - val_loss: 0.6728 - val_accuracy: 0.6250\n",
      "Epoch 39/50\n",
      "24/24 [==============================] - 0s 3ms/step - loss: 0.7210 - accuracy: 0.4896 - val_loss: 0.7724 - val_accuracy: 0.4792\n",
      "Epoch 40/50\n",
      "24/24 [==============================] - 0s 3ms/step - loss: 0.7377 - accuracy: 0.4740 - val_loss: 0.7264 - val_accuracy: 0.4792\n",
      "Epoch 41/50\n",
      "24/24 [==============================] - 0s 3ms/step - loss: 0.7091 - accuracy: 0.4583 - val_loss: 0.6769 - val_accuracy: 0.5625\n",
      "Epoch 42/50\n",
      "24/24 [==============================] - 0s 3ms/step - loss: 0.7038 - accuracy: 0.4792 - val_loss: 0.6703 - val_accuracy: 0.5208\n",
      "Epoch 43/50\n",
      "24/24 [==============================] - 0s 3ms/step - loss: 0.6957 - accuracy: 0.4844 - val_loss: 0.6688 - val_accuracy: 0.6042\n",
      "Epoch 44/50\n",
      "24/24 [==============================] - 0s 3ms/step - loss: 0.6982 - accuracy: 0.4948 - val_loss: 0.6741 - val_accuracy: 0.6250\n",
      "Epoch 45/50\n",
      "24/24 [==============================] - 0s 3ms/step - loss: 0.6984 - accuracy: 0.4948 - val_loss: 0.6930 - val_accuracy: 0.5833\n",
      "Epoch 46/50\n",
      "24/24 [==============================] - 0s 3ms/step - loss: 0.7006 - accuracy: 0.4740 - val_loss: 0.6773 - val_accuracy: 0.5625\n",
      "Epoch 47/50\n",
      "24/24 [==============================] - 0s 3ms/step - loss: 0.6964 - accuracy: 0.5156 - val_loss: 0.6759 - val_accuracy: 0.6250\n",
      "Epoch 48/50\n",
      "24/24 [==============================] - 0s 3ms/step - loss: 0.7053 - accuracy: 0.5677 - val_loss: 0.6790 - val_accuracy: 0.5208\n",
      "Epoch 49/50\n",
      "24/24 [==============================] - 0s 3ms/step - loss: 0.7215 - accuracy: 0.4531 - val_loss: 0.6647 - val_accuracy: 0.6458\n",
      "Epoch 50/50\n",
      "24/24 [==============================] - 0s 3ms/step - loss: 0.6946 - accuracy: 0.5052 - val_loss: 0.7715 - val_accuracy: 0.4792\n",
      "Epoch 1/50\n"
     ]
    },
    {
     "ename": "ValueError",
     "evalue": "in user code:\n\n    File \"C:\\Users\\aliek\\AppData\\Local\\Packages\\PythonSoftwareFoundation.Python.3.10_qbz5n2kfra8p0\\LocalCache\\local-packages\\Python310\\site-packages\\keras\\src\\engine\\training.py\", line 1401, in train_function  *\n        return step_function(self, iterator)\n    File \"C:\\Users\\aliek\\AppData\\Local\\Packages\\PythonSoftwareFoundation.Python.3.10_qbz5n2kfra8p0\\LocalCache\\local-packages\\Python310\\site-packages\\keras\\src\\engine\\training.py\", line 1384, in step_function  **\n        outputs = model.distribute_strategy.run(run_step, args=(data,))\n    File \"C:\\Users\\aliek\\AppData\\Local\\Packages\\PythonSoftwareFoundation.Python.3.10_qbz5n2kfra8p0\\LocalCache\\local-packages\\Python310\\site-packages\\keras\\src\\engine\\training.py\", line 1373, in run_step  **\n        outputs = model.train_step(data)\n    File \"C:\\Users\\aliek\\AppData\\Local\\Packages\\PythonSoftwareFoundation.Python.3.10_qbz5n2kfra8p0\\LocalCache\\local-packages\\Python310\\site-packages\\keras\\src\\engine\\training.py\", line 1150, in train_step\n        y_pred = self(x, training=True)\n    File \"C:\\Users\\aliek\\AppData\\Local\\Packages\\PythonSoftwareFoundation.Python.3.10_qbz5n2kfra8p0\\LocalCache\\local-packages\\Python310\\site-packages\\keras\\src\\utils\\traceback_utils.py\", line 70, in error_handler\n        raise e.with_traceback(filtered_tb) from None\n    File \"C:\\Users\\aliek\\AppData\\Local\\Packages\\PythonSoftwareFoundation.Python.3.10_qbz5n2kfra8p0\\LocalCache\\local-packages\\Python310\\site-packages\\keras\\src\\engine\\input_spec.py\", line 298, in assert_input_compatibility\n        raise ValueError(\n\n    ValueError: Input 0 of layer \"sequential_31\" is incompatible with the layer: expected shape=(None, 3), found shape=(8, 2)\n",
     "output_type": "error",
     "traceback": [
      "\u001b[1;31m---------------------------------------------------------------------------\u001b[0m",
      "\u001b[1;31mValueError\u001b[0m                                Traceback (most recent call last)",
      "Cell \u001b[1;32mIn[180], line 2\u001b[0m\n\u001b[0;32m      1\u001b[0m model_toss\u001b[38;5;241m.\u001b[39mfit(X_train, y_toss_train, epochs\u001b[38;5;241m=\u001b[39m\u001b[38;5;241m50\u001b[39m, batch_size\u001b[38;5;241m=\u001b[39m\u001b[38;5;241m8\u001b[39m, validation_data\u001b[38;5;241m=\u001b[39m(X_test, y_toss_test))\n\u001b[1;32m----> 2\u001b[0m \u001b[43mmodel_distance\u001b[49m\u001b[38;5;241;43m.\u001b[39;49m\u001b[43mfit\u001b[49m\u001b[43m(\u001b[49m\u001b[43mX_train_distance\u001b[49m\u001b[43m,\u001b[49m\u001b[43m \u001b[49m\u001b[43my_distance_train\u001b[49m\u001b[43m,\u001b[49m\u001b[43m \u001b[49m\u001b[43mepochs\u001b[49m\u001b[38;5;241;43m=\u001b[39;49m\u001b[38;5;241;43m50\u001b[39;49m\u001b[43m,\u001b[49m\u001b[43m \u001b[49m\u001b[43mbatch_size\u001b[49m\u001b[38;5;241;43m=\u001b[39;49m\u001b[38;5;241;43m8\u001b[39;49m\u001b[43m,\u001b[49m\u001b[43m \u001b[49m\u001b[43mvalidation_data\u001b[49m\u001b[38;5;241;43m=\u001b[39;49m\u001b[43m(\u001b[49m\u001b[43mX_test_distance\u001b[49m\u001b[43m,\u001b[49m\u001b[43m \u001b[49m\u001b[43my_distance_test\u001b[49m\u001b[43m)\u001b[49m\u001b[43m)\u001b[49m\n",
      "File \u001b[1;32m~\\AppData\\Local\\Packages\\PythonSoftwareFoundation.Python.3.10_qbz5n2kfra8p0\\LocalCache\\local-packages\\Python310\\site-packages\\keras\\src\\utils\\traceback_utils.py:70\u001b[0m, in \u001b[0;36mfilter_traceback.<locals>.error_handler\u001b[1;34m(*args, **kwargs)\u001b[0m\n\u001b[0;32m     67\u001b[0m     filtered_tb \u001b[38;5;241m=\u001b[39m _process_traceback_frames(e\u001b[38;5;241m.\u001b[39m__traceback__)\n\u001b[0;32m     68\u001b[0m     \u001b[38;5;66;03m# To get the full stack trace, call:\u001b[39;00m\n\u001b[0;32m     69\u001b[0m     \u001b[38;5;66;03m# `tf.debugging.disable_traceback_filtering()`\u001b[39;00m\n\u001b[1;32m---> 70\u001b[0m     \u001b[38;5;28;01mraise\u001b[39;00m e\u001b[38;5;241m.\u001b[39mwith_traceback(filtered_tb) \u001b[38;5;28;01mfrom\u001b[39;00m \u001b[38;5;28;01mNone\u001b[39;00m\n\u001b[0;32m     71\u001b[0m \u001b[38;5;28;01mfinally\u001b[39;00m:\n\u001b[0;32m     72\u001b[0m     \u001b[38;5;28;01mdel\u001b[39;00m filtered_tb\n",
      "File \u001b[1;32m~\\AppData\\Local\\Temp\\__autograph_generated_filew9rye3s0.py:15\u001b[0m, in \u001b[0;36mouter_factory.<locals>.inner_factory.<locals>.tf__train_function\u001b[1;34m(iterator)\u001b[0m\n\u001b[0;32m     13\u001b[0m \u001b[38;5;28;01mtry\u001b[39;00m:\n\u001b[0;32m     14\u001b[0m     do_return \u001b[38;5;241m=\u001b[39m \u001b[38;5;28;01mTrue\u001b[39;00m\n\u001b[1;32m---> 15\u001b[0m     retval_ \u001b[38;5;241m=\u001b[39m ag__\u001b[38;5;241m.\u001b[39mconverted_call(ag__\u001b[38;5;241m.\u001b[39mld(step_function), (ag__\u001b[38;5;241m.\u001b[39mld(\u001b[38;5;28mself\u001b[39m), ag__\u001b[38;5;241m.\u001b[39mld(iterator)), \u001b[38;5;28;01mNone\u001b[39;00m, fscope)\n\u001b[0;32m     16\u001b[0m \u001b[38;5;28;01mexcept\u001b[39;00m:\n\u001b[0;32m     17\u001b[0m     do_return \u001b[38;5;241m=\u001b[39m \u001b[38;5;28;01mFalse\u001b[39;00m\n",
      "\u001b[1;31mValueError\u001b[0m: in user code:\n\n    File \"C:\\Users\\aliek\\AppData\\Local\\Packages\\PythonSoftwareFoundation.Python.3.10_qbz5n2kfra8p0\\LocalCache\\local-packages\\Python310\\site-packages\\keras\\src\\engine\\training.py\", line 1401, in train_function  *\n        return step_function(self, iterator)\n    File \"C:\\Users\\aliek\\AppData\\Local\\Packages\\PythonSoftwareFoundation.Python.3.10_qbz5n2kfra8p0\\LocalCache\\local-packages\\Python310\\site-packages\\keras\\src\\engine\\training.py\", line 1384, in step_function  **\n        outputs = model.distribute_strategy.run(run_step, args=(data,))\n    File \"C:\\Users\\aliek\\AppData\\Local\\Packages\\PythonSoftwareFoundation.Python.3.10_qbz5n2kfra8p0\\LocalCache\\local-packages\\Python310\\site-packages\\keras\\src\\engine\\training.py\", line 1373, in run_step  **\n        outputs = model.train_step(data)\n    File \"C:\\Users\\aliek\\AppData\\Local\\Packages\\PythonSoftwareFoundation.Python.3.10_qbz5n2kfra8p0\\LocalCache\\local-packages\\Python310\\site-packages\\keras\\src\\engine\\training.py\", line 1150, in train_step\n        y_pred = self(x, training=True)\n    File \"C:\\Users\\aliek\\AppData\\Local\\Packages\\PythonSoftwareFoundation.Python.3.10_qbz5n2kfra8p0\\LocalCache\\local-packages\\Python310\\site-packages\\keras\\src\\utils\\traceback_utils.py\", line 70, in error_handler\n        raise e.with_traceback(filtered_tb) from None\n    File \"C:\\Users\\aliek\\AppData\\Local\\Packages\\PythonSoftwareFoundation.Python.3.10_qbz5n2kfra8p0\\LocalCache\\local-packages\\Python310\\site-packages\\keras\\src\\engine\\input_spec.py\", line 298, in assert_input_compatibility\n        raise ValueError(\n\n    ValueError: Input 0 of layer \"sequential_31\" is incompatible with the layer: expected shape=(None, 3), found shape=(8, 2)\n"
     ]
    }
   ],
   "source": [
    "model_toss.fit(X_train, y_toss_train, epochs=50, batch_size=8, validation_data=(X_test, y_toss_test))\n",
    "model_distance.fit(X_train, y_distance_train, epochs=50, batch_size=8, validation_data=(X_test, y_distance_test))\n"
   ]
  },
  {
   "cell_type": "code",
   "execution_count": null,
   "metadata": {},
   "outputs": [
    {
     "name": "stdout",
     "output_type": "stream",
     "text": [
      "2/2 [==============================] - 0s 3ms/step - loss: 0.6649 - accuracy: 0.6250\n",
      "Toss Model - Loss: 0.6649250984191895, Toss Accuracy: %62.5\n",
      "2/2 [==============================] - 0s 3ms/step - loss: 481.7266 - mae: 15.5442\n",
      "Distance Model - Loss: 481.7265625, Mean Absolute Error: 15.54423999786377\n",
      "Distance Model - Accuracy: -1454.42%\n"
     ]
    }
   ],
   "source": [
    "loss, accuracy = model_toss.evaluate(X_test, y_toss_test)\n",
    "print(f'Toss Model - Loss: {loss}, Toss Accuracy: %{accuracy*100}')\n",
    "\n",
    "loss_distance, mae_distance = model_distance.evaluate(X_test, y_distance_test)\n",
    "print(f'Distance Model - Loss: {loss_distance}, Mean Absolute Error: {mae_distance}')\n",
    "\n",
    "# Yüzde doğruluğu hesapla\n",
    "accuracy_percentage = (1 - mae_distance) * 100\n",
    "print(f'Distance Model - Accuracy: {accuracy_percentage:.2f}%')"
   ]
  },
  {
   "cell_type": "code",
   "execution_count": null,
   "metadata": {},
   "outputs": [
    {
     "name": "stdout",
     "output_type": "stream",
     "text": [
      "2/2 [==============================] - 0s 2ms/step\n",
      "Örnek Tahminler:\n",
      "[[3064.8333]\n",
      " [3545.145 ]\n",
      " [3253.7593]\n",
      " [2750.86  ]\n",
      " [2750.86  ]]\n"
     ]
    }
   ],
   "source": [
    "# Modeli kullanarak tahmin yap\n",
    "predictions = model_distance.predict(X_test)\n",
    "\n",
    "# Normalize edilmiş tahminleri gerçek değerlere dönüştür\n",
    "predicted_distances = scaler.inverse_transform(predictions)\n",
    "\n",
    "# İlk birkaç tahmini yazdır\n",
    "print(\"Örnek Tahminler:\")\n",
    "print(predicted_distances[:5])"
   ]
  }
 ],
 "metadata": {
  "kernelspec": {
   "display_name": "Python 3",
   "language": "python",
   "name": "python3"
  },
  "language_info": {
   "codemirror_mode": {
    "name": "ipython",
    "version": 3
   },
   "file_extension": ".py",
   "mimetype": "text/x-python",
   "name": "python",
   "nbconvert_exporter": "python",
   "pygments_lexer": "ipython3",
   "version": "3.10.11"
  }
 },
 "nbformat": 4,
 "nbformat_minor": 2
}
